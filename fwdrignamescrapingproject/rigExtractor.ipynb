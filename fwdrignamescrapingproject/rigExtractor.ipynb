{
 "cells": [
  {
   "cell_type": "markdown",
   "metadata": {},
   "source": [
    "# <Center>Regex Library<Center>"
   ]
  },
  {
   "cell_type": "code",
   "execution_count": 1,
   "metadata": {},
   "outputs": [],
   "source": [
    "import re\n",
    "from pdfminer.high_level import extract_text\n",
    "import ocrmypdf\n",
    "\n",
    "import os\n",
    "os.chdir('C:/Users/Fahim/Desktop/Gibson Reports/AI/Temp2')\n"
   ]
  },
  {
   "cell_type": "markdown",
   "metadata": {},
   "source": [
    "## Method 1 (Compass)\n",
    "\n",
    "1) PHOENIX TECHNOLOGY SERV USA INC. | \n",
    "2) SCIENTIFIC DRILLING INT'L, INC. | \n",
    "3) QES DIRECTIONAL DRILLING, LLC |\n",
    "3) ALTITUDE ENERGY PARTNERS, LLC |\n",
    "4) CATHEDRAL ENERGY SERVICES INC. |\n",
    "5) AIM DIRECTIONAL SERVICES, LLC | \n",
    "6) CHOICE DIRECTIONAL SVCS US CORP. |\n",
    "7) NABORS DRILLING TECH USA, INC. | \n",
    "7) METEORITE ENERGY SERVICES INC.\n",
    "8) INTREPID D.D.S., LTD. |\n",
    "9) PROFESSIONAL DIRECTIONAL ENT INC | \n",
    "10) DEFINITIVE DIRECTIONAL , LLC"
   ]
  },
  {
   "cell_type": "code",
   "execution_count": 5,
   "metadata": {},
   "outputs": [],
   "source": [
    "class method1():\n",
    "    \n",
    "    def __init__(self):\n",
    "        self.regex =  re.compile(r'@\\s+\\w+\\.\\w+\\s+\\(\\w+.*')\n",
    "        return\n",
    "    \n",
    "    def main(self,filename):\n",
    "        text = extract_text(filename,page_numbers = [2])\n",
    "        \n",
    "        rig_name = None\n",
    "        \n",
    "        for line in text.split('\\n'):\n",
    "            \n",
    "            match = self.regex.search(line)\n",
    "            \n",
    "            if match != None:\n",
    "                \n",
    "                rig_name = match.group(0).split('(',)[1].replace(')','')\n",
    "                \n",
    "                                \n",
    "                if rig_name.find('GL') != -1:\n",
    "                    rig_name = match.group(0).split('(',)[2].replace(')','')\n",
    "                \n",
    "                return rig_name\n",
    "            \n",
    "        if rig_name == None:\n",
    "            \n",
    "            text = extract_text(filename,page_numbers = [5])\n",
    "            \n",
    "            for line in text.split('\\n'):\n",
    "                \n",
    "                match = self.regex.search(line)\n",
    "                \n",
    "                if match != None:\n",
    "                    \n",
    "                    rig_name = match.group(0).split('(',)[1].replace(')','')\n",
    "                    \n",
    "                    return rig_name\n",
    "            \n",
    "            \n",
    "        "
   ]
  },
  {
   "cell_type": "code",
   "execution_count": 1,
   "metadata": {},
   "outputs": [],
   "source": [
    "# m = method1()\n",
    "# name = m.main('dir_survey_5181847.pdf')\n",
    "# name"
   ]
  },
  {
   "cell_type": "code",
   "execution_count": null,
   "metadata": {},
   "outputs": [],
   "source": []
  },
  {
   "cell_type": "markdown",
   "metadata": {},
   "source": [
    "## Method 2\n",
    "\n",
    "1) VAUGHN ENERGY SERVICES |\n",
    "2) ACCURATE DIRECTIONAL |\n",
    "3) GEO-MAG MWD LLC"
   ]
  },
  {
   "cell_type": "code",
   "execution_count": 1,
   "metadata": {},
   "outputs": [],
   "source": [
    "class method2():\n",
    "    \n",
    "    def __init__(self):\n",
    "        self.regex =  re.compile(r'Rig\\s+Name:\\s+\\w+.*')\n",
    "        return\n",
    "    \n",
    "    def main(self,filename):\n",
    "        text = extract_text(filename,page_numbers = [0])\n",
    "        \n",
    "        rig_name = None\n",
    "        \n",
    "        for line in text.split('\\n'):\n",
    "            \n",
    "            match = self.regex.search(line)\n",
    "            \n",
    "            if match != None:\n",
    "                \n",
    "                rig_name =  match.group(0).split(':')[1].strip()\n",
    "                \n",
    "                return rig_name\n",
    "            \n",
    "        if rig_name == None:\n",
    "            text = extract_text(filename,page_numbers = [2])\n",
    "            \n",
    "            for line in text.split('\\n'):\n",
    "            \n",
    "                match = self.regex.search(line)\n",
    "\n",
    "                if match != None:\n",
    "\n",
    "                    rig_name =  match.group(0).split(':')[1].strip()\n",
    "\n",
    "                    return rig_name\n",
    "            \n",
    "            "
   ]
  },
  {
   "cell_type": "code",
   "execution_count": null,
   "metadata": {},
   "outputs": [],
   "source": []
  },
  {
   "cell_type": "markdown",
   "metadata": {},
   "source": [
    "## Method 3\n",
    "\n",
    "1) GEO-MAG MWD LLC |\n",
    "2) LEGACY DIRECTIONAL DRILLING, LLC"
   ]
  },
  {
   "cell_type": "code",
   "execution_count": 31,
   "metadata": {},
   "outputs": [],
   "source": [
    "class method3():\n",
    "    \n",
    "    def __init__(self):\n",
    "        self.regex = re.compile(r'Rig\\s+ID:\\s+\\w+.*')\n",
    "        self.regex2 = re.compile(r'Rig\\s+ID:')\n",
    "        return\n",
    "    \n",
    "    def main(self,filename):\n",
    "        text = extract_text(filename,page_numbers = [0])\n",
    "        \n",
    "        rig_name = None\n",
    "        \n",
    "        lines = []\n",
    "        \n",
    "        for line in text.split('\\n'):\n",
    "            lines.append(line)\n",
    "        \n",
    "        for line in lines:\n",
    "            \n",
    "            match = self.regex.search(line)\n",
    "            \n",
    "            if match != None:\n",
    "                \n",
    "                rig_name =  match.group(0).replace('Rig ID: ','').strip()\n",
    "                \n",
    "                return rig_name\n",
    "            \n",
    "            \n",
    "            \n",
    "        if rig_name == None:\n",
    "            \n",
    "            count = 0\n",
    "            \n",
    "            for line in lines:\n",
    "                \n",
    "                count +=1\n",
    "            \n",
    "                match = self.regex2.search(line)\n",
    "                \n",
    "                if match != None:\n",
    "                    \n",
    "                    rig_name = lines[count+1]\n",
    "\n",
    "                    return rig_name\n",
    "            \n",
    "            \n",
    "            "
   ]
  },
  {
   "cell_type": "code",
   "execution_count": 77,
   "metadata": {},
   "outputs": [],
   "source": [
    "# m = method3()\n",
    "# name = m.main('dir_survey_5104999.pdf')\n",
    "# name"
   ]
  },
  {
   "cell_type": "code",
   "execution_count": null,
   "metadata": {},
   "outputs": [],
   "source": []
  },
  {
   "cell_type": "markdown",
   "metadata": {},
   "source": [
    "## Method 4\n",
    "1) GORDON TECHNOLOGIES |\n",
    "2) KOLTEK ENERGY SERVICES, LLC"
   ]
  },
  {
   "cell_type": "code",
   "execution_count": 2,
   "metadata": {},
   "outputs": [],
   "source": [
    "class method4():\n",
    "    \n",
    "    def __init__(self):\n",
    "        self.regex =  re.compile(r'Rig:\\s+\\w+.*')\n",
    "        return\n",
    "    \n",
    "    def main(self,filename):\n",
    "        \n",
    "        ocrmypdf.ocr(filename,filename,force=True)\n",
    "        \n",
    "        text = extract_text(filename,page_numbers = [0])\n",
    "        \n",
    "        for line in text.split('\\n'):\n",
    "            \n",
    "            match = self.regex.search(line)\n",
    "            \n",
    "            if match != None:\n",
    "                \n",
    "                rig_name =  match.group(0).replace('Rig: ','').strip()\n",
    "                \n",
    "                return rig_name\n",
    "            "
   ]
  },
  {
   "cell_type": "code",
   "execution_count": 3,
   "metadata": {},
   "outputs": [],
   "source": [
    "# m = method4()\n",
    "# name = m.main('dir_survey_5172547.pdf')\n",
    "# name"
   ]
  },
  {
   "cell_type": "markdown",
   "metadata": {},
   "source": [
    "## Method 5\n",
    "1) GYRODATA"
   ]
  },
  {
   "cell_type": "code",
   "execution_count": 9,
   "metadata": {},
   "outputs": [],
   "source": [
    "class method5():\n",
    "    \n",
    "    def __init__(self):\n",
    "        self.regex =  re.compile(r'Location:.*')\n",
    "        return\n",
    "    \n",
    "    def main(self,filename):\n",
    "        text = extract_text(filename,page_numbers = [1])\n",
    "        \n",
    "        for line in text.split('\\n'):\n",
    "            \n",
    "            match = self.regex.search(line)\n",
    "            \n",
    "            if match != None:\n",
    "                \n",
    "                rig_name =  match.group(0).split(':')[1].split(',')[0]\n",
    "                \n",
    "                if 'well' in rig_name.lower():\n",
    "                    return None\n",
    "                else:\n",
    "                    return rig_name\n",
    "            "
   ]
  },
  {
   "cell_type": "code",
   "execution_count": null,
   "metadata": {},
   "outputs": [],
   "source": []
  },
  {
   "cell_type": "markdown",
   "metadata": {},
   "source": [
    "## Method 6\n",
    "1) SCIENTIFIC DRILLING INT'L, INC."
   ]
  },
  {
   "cell_type": "code",
   "execution_count": 12,
   "metadata": {},
   "outputs": [],
   "source": [
    "class method6():\n",
    "    \n",
    "    def __init__(self):\n",
    "        self.regex =  re.compile(r'\\d+/\\d+/\\d{4}') #catching a date\n",
    "        return\n",
    "    \n",
    "    def main(self,filename):\n",
    "        text = extract_text(filename,page_numbers = [0])\n",
    "        \n",
    "        lines = []\n",
    "        \n",
    "        for line in text.split('\\n'):\n",
    "            lines.append(line)\n",
    "            \n",
    "        count = 0\n",
    "        \n",
    "        for line in lines:\n",
    "            \n",
    "            count += 1\n",
    "            \n",
    "            match = self.regex.search(line)\n",
    "            \n",
    "            if match != None:\n",
    "                \n",
    "                rig_name =  lines[count-3]\n",
    "                \n",
    "                return rig_name"
   ]
  },
  {
   "cell_type": "markdown",
   "metadata": {},
   "source": [
    "## Method 7\n",
    "\n",
    "1) SCHLUMBERGER TECHNOLOGY CORP."
   ]
  },
  {
   "cell_type": "code",
   "execution_count": 1,
   "metadata": {},
   "outputs": [],
   "source": [
    "class method7():\n",
    "    \n",
    "    def __init__(self):\n",
    "        self.regex =  re.compile(r'\\d{2}-\\d{3}-\\d{5}') #catching API number\n",
    "        return\n",
    "    \n",
    "    def main(self,filename):\n",
    "        text = extract_text(filename,page_numbers = [0])\n",
    "        \n",
    "        lines = []\n",
    "        \n",
    "        for line in text.split('\\n'):\n",
    "            lines.append(line)\n",
    "            \n",
    "        count = 0\n",
    "        \n",
    "        for line in lines:\n",
    "            \n",
    "            count += 1\n",
    "            \n",
    "            match = self.regex.search(line)\n",
    "            \n",
    "            if match != None:\n",
    "                \n",
    "                \n",
    "                \n",
    "                rig_name =  lines[count-3]\n",
    "                \n",
    "                return rig_name\n",
    "            \n",
    "            "
   ]
  },
  {
   "cell_type": "code",
   "execution_count": null,
   "metadata": {},
   "outputs": [],
   "source": []
  },
  {
   "cell_type": "markdown",
   "metadata": {},
   "source": [
    "## Method 8\n",
    "1) HALLIBURTON ENERGY SERVICES"
   ]
  },
  {
   "cell_type": "code",
   "execution_count": 2,
   "metadata": {},
   "outputs": [],
   "source": [
    "class method8():\n",
    "    \n",
    "    def __init__(self):\n",
    "        self.regex =  re.compile(r'\\d{2}-\\d{3}-\\d{5}') #catching API number\n",
    "        self.regex2 = re.compile(r'API#') \n",
    "        return\n",
    "    \n",
    "    def main(self,filename):\n",
    "        text = extract_text(filename,page_numbers = [0])\n",
    "        \n",
    "        \n",
    "        lines = []\n",
    "        \n",
    "        for line in text.split('\\n'):\n",
    "            lines.append(line)\n",
    "            \n",
    "        count = 0\n",
    "        \n",
    "        for line in lines:\n",
    "            \n",
    "            count += 1\n",
    "            \n",
    "            match = self.regex.search(line)\n",
    "            \n",
    "            if match != None:\n",
    "                \n",
    "#                 print(match.group(0))\n",
    "                \n",
    "                rig_name =  lines[count-2]\n",
    "                \n",
    "                if rig_name == '':\n",
    "                    text2 = extract_text(filename,page_numbers = [1])\n",
    "                    \n",
    "                    lines2 = []\n",
    "                    \n",
    "                    for line in text2.split('\\n'):\n",
    "                        lines2.append(line)\n",
    "                    \n",
    "                    count2 = 0\n",
    "#                     print(lines2)\n",
    "                    \n",
    "                    for line in lines2:\n",
    "                        \n",
    "                        count2 += 1\n",
    "                        \n",
    "                        match2 = self.regex2.search(line)\n",
    "                        \n",
    "                        if match2 != None:\n",
    "                            \n",
    "                            rig_name = lines2[count2-2]\n",
    "#                             print(match2.group(0))\n",
    "                            \n",
    "                            return rig_name    \n",
    "                        \n",
    "                else:\n",
    "                \n",
    "                    return rig_name"
   ]
  },
  {
   "cell_type": "markdown",
   "metadata": {},
   "source": [
    "## Method 9\n",
    "\n",
    "1) TRUE SHOT, LLC"
   ]
  },
  {
   "cell_type": "code",
   "execution_count": null,
   "metadata": {},
   "outputs": [],
   "source": [
    "class method9():\n",
    "    \n",
    "    def __init__(self):\n",
    "        self.regex =  re.compile(r'Rig:\\s+\\w+.*')\n",
    "        return\n",
    "    \n",
    "    def main(self,filename):\n",
    "        text = extract_text(filename,page_numbers = [0])\n",
    "        \n",
    "        for line in text.split('\\n'):\n",
    "            \n",
    "            match = self.regex.search(line)\n",
    "            \n",
    "            if match != None:\n",
    "                \n",
    "                rig_name =  match.group(0).replace('Rig:','').strip()\n",
    "                \n",
    "                return rig_name\n",
    "            "
   ]
  },
  {
   "cell_type": "markdown",
   "metadata": {},
   "source": [
    "## Method 10\n",
    "1) BAKER HUGHES INTEQ"
   ]
  },
  {
   "cell_type": "code",
   "execution_count": 11,
   "metadata": {},
   "outputs": [],
   "source": [
    "class method10():\n",
    "    \n",
    "    def __init__(self):\n",
    "        self.regex =  re.compile(r'.*B\\)')\n",
    "        return\n",
    "    \n",
    "    def main(self,filename):\n",
    "        text = extract_text(filename,page_numbers = [0])\n",
    "        \n",
    "        for line in text.split('\\n'):\n",
    "            \n",
    "            match = self.regex.search(line)\n",
    "            \n",
    "            if match != None:\n",
    "                \n",
    "                rig_name =  match.group(0).split('(')[0].strip()\n",
    "                \n",
    "                if rig_name.find('Rig:') != -1:\n",
    "                    rig_name = rig_name.strip('Rig:').strip()\n",
    "                    \n",
    "                if rig_name.find('referenced to') != -1:\n",
    "                    rig_name = rig_name.split('to')[1].strip()\n",
    "                \n",
    "                return rig_name"
   ]
  },
  {
   "cell_type": "code",
   "execution_count": 59,
   "metadata": {},
   "outputs": [],
   "source": [
    "# m = method10()\n",
    "# name = m.main('dir_survey_5151832.pdf')\n",
    "# name"
   ]
  },
  {
   "cell_type": "markdown",
   "metadata": {},
   "source": [
    "## Method 11\n",
    "1) INVICTUS TOOLS, LLC"
   ]
  },
  {
   "cell_type": "code",
   "execution_count": 61,
   "metadata": {},
   "outputs": [],
   "source": [
    "class method11():\n",
    "    \n",
    "    def __init__(self):\n",
    "        self.regex =  re.compile(r'Job Notes:') #catching API number\n",
    "        return\n",
    "    \n",
    "    def main(self,filename):\n",
    "        text = extract_text(filename,page_numbers = [0])\n",
    "        \n",
    "        lines = []\n",
    "        \n",
    "        for line in text.split('\\n'):\n",
    "            lines.append(line)\n",
    "            \n",
    "        count = 0\n",
    "        \n",
    "        for line in lines:\n",
    "            \n",
    "            count += 1\n",
    "            \n",
    "            match = self.regex.search(line)\n",
    "            \n",
    "            if match != None:\n",
    "                \n",
    "                \n",
    "                \n",
    "                rig_name =  lines[count+1]\n",
    "                \n",
    "                return rig_name\n",
    "            "
   ]
  },
  {
   "cell_type": "code",
   "execution_count": 1,
   "metadata": {},
   "outputs": [],
   "source": [
    "# m = method11()\n",
    "# name = m.main('dir_survey_5160054.pdf')\n",
    "# name"
   ]
  },
  {
   "cell_type": "code",
   "execution_count": null,
   "metadata": {},
   "outputs": [],
   "source": []
  },
  {
   "cell_type": "code",
   "execution_count": null,
   "metadata": {},
   "outputs": [],
   "source": []
  }
 ],
 "metadata": {
  "kernelspec": {
   "display_name": "Python 3",
   "language": "python",
   "name": "python3"
  },
  "language_info": {
   "codemirror_mode": {
    "name": "ipython",
    "version": 3
   },
   "file_extension": ".py",
   "mimetype": "text/x-python",
   "name": "python",
   "nbconvert_exporter": "python",
   "pygments_lexer": "ipython3",
   "version": "3.7.3"
  }
 },
 "nbformat": 4,
 "nbformat_minor": 4
}
