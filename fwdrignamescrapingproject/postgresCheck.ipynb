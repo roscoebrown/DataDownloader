{
 "cells": [
  {
   "cell_type": "code",
   "execution_count": 2,
   "metadata": {},
   "outputs": [],
   "source": [
    "import psycopg2 as ppg"
   ]
  },
  {
   "cell_type": "code",
   "execution_count": 4,
   "metadata": {},
   "outputs": [],
   "source": [
    "class postgresCheck():\n",
    "    \n",
    "    def __init__(self):\n",
    "        self.conn = ppg.connect(\n",
    "        database = 'postgres',\n",
    "        user = 'rigextract',\n",
    "        password = 'G1bson!',\n",
    "        host = 'railroad-prod.cxmxeomzvjpa.us-east-2.rds.amazonaws.com',\n",
    "        port = '5432')\n",
    "        \n",
    "        self.cur1 = self.conn.cursor()\n",
    "        self.cur2 = self.conn.cursor()\n",
    "        \n",
    "    def checkFile(self,filename):\n",
    "        survey_id = filename.split('.')[0].split('_')[2]\n",
    "        EAID = \"'\" + survey_id +\"'\"\n",
    "        SQL = \"\"\"\n",
    "        SELECT externalattachmentid,surveycompany,surveytype \n",
    "        FROM railroad.completesurveydata \n",
    "        WHERE externalattachmentid = {}\n",
    "        \"\"\".format(EAID)\n",
    "        \n",
    "        self.cur1.execute(SQL)\n",
    "        self.cur2.execute(SQL)\n",
    "        \n",
    "        if len(self.cur1.fetchall()) != 0:\n",
    "            for record in self.cur2.fetchall():\n",
    "                EAID, surveyCompany, surveyType = record\n",
    "                return [surveyCompany,surveyType]\n",
    "        else:\n",
    "            return 'missing'\n",
    "        \n",
    "    def checkRig(self,filename):\n",
    "        survey_id = filename.split('.')[0].split('_')[2]\n",
    "        EAID = \"'\" + survey_id +\"'\"\n",
    "        SQL = \"\"\"\n",
    "        SELECT externalattachmentid\n",
    "        FROM railroad.rigextract\n",
    "        WHERE externalattachmentid = {}\n",
    "        \"\"\".format(EAID)\n",
    "        \n",
    "        self.cur1.execute(SQL)\n",
    "        \n",
    "        if len(self.cur1.fetchall()) != 0:\n",
    "            return 'rig already extracted'\n",
    "        else:\n",
    "            return 'missing'\n",
    "        \n",
    "        \n",
    "        "
   ]
  },
  {
   "cell_type": "code",
   "execution_count": null,
   "metadata": {},
   "outputs": [],
   "source": []
  }
 ],
 "metadata": {
  "kernelspec": {
   "display_name": "Python 3",
   "language": "python",
   "name": "python3"
  },
  "language_info": {
   "codemirror_mode": {
    "name": "ipython",
    "version": 3
   },
   "file_extension": ".py",
   "mimetype": "text/x-python",
   "name": "python",
   "nbconvert_exporter": "python",
   "pygments_lexer": "ipython3",
   "version": "3.7.3"
  }
 },
 "nbformat": 4,
 "nbformat_minor": 4
}
