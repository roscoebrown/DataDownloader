{
 "cells": [
  {
   "cell_type": "code",
   "execution_count": null,
   "metadata": {},
   "outputs": [],
   "source": []
  },
  {
   "cell_type": "code",
   "execution_count": 11,
   "metadata": {},
   "outputs": [],
   "source": [
    "import psycopg2 as ppg\n",
    "import os\n",
    "from termcolor import colored"
   ]
  },
  {
   "cell_type": "code",
   "execution_count": 38,
   "metadata": {},
   "outputs": [],
   "source": [
    "class postgresCheck():\n",
    "    \n",
    "    def __init__(self):\n",
    "        self.conn = ppg.connect(\n",
    "        database = 'postgres',\n",
    "        user = 'rigextract',\n",
    "        password = 'G1bson!',\n",
    "        host = 'railroad-prod.cxmxeomzvjpa.us-east-2.rds.amazonaws.com',\n",
    "        port = '5432')\n",
    "        \n",
    "        self.cur1 = self.conn.cursor()\n",
    "        self.cur2 = self.conn.cursor()\n",
    "        \n",
    "    def checkFile(self,filename):\n",
    "        survey_id = filename.split('.')[0].split('_')[2]\n",
    "        EAID = \"'\" + survey_id +\"'\"\n",
    "        SQL = \"\"\"\n",
    "        SELECT externalattachmentid,surveycompany,surveytype \n",
    "        FROM railroad.completesurveydata \n",
    "        WHERE externalattachmentid = {}\n",
    "        \"\"\".format(EAID)\n",
    "        \n",
    "        self.cur1.execute(SQL)\n",
    "        self.cur2.execute(SQL)\n",
    "        \n",
    "        if len(self.cur1.fetchall()) != 0:\n",
    "            for record in self.cur2.fetchall():\n",
    "                EAID, surveyCompany, surveyType = record\n",
    "                print(surveyCompany)\n",
    "                return [surveyCompany,surveyType]\n",
    "        else:\n",
    "            return 'missing'\n",
    "        \n",
    "        \n",
    "        \n"
   ]
  },
  {
   "cell_type": "code",
   "execution_count": 35,
   "metadata": {},
   "outputs": [],
   "source": [
    "p = postgresCheck()"
   ]
  },
  {
   "cell_type": "code",
   "execution_count": 22,
   "metadata": {},
   "outputs": [
    {
     "name": "stdout",
     "output_type": "stream",
     "text": [
      "PHOENIX TECHNOLOGY SERV USA INC.\n"
     ]
    }
   ],
   "source": [
    "r = p.checkFile('dir_survey_5089295.pdf')"
   ]
  },
  {
   "cell_type": "code",
   "execution_count": 23,
   "metadata": {},
   "outputs": [
    {
     "data": {
      "text/plain": [
       "['PHOENIX TECHNOLOGY SERV USA INC.', 'MWD']"
      ]
     },
     "execution_count": 23,
     "metadata": {},
     "output_type": "execute_result"
    }
   ],
   "source": [
    "r"
   ]
  },
  {
   "cell_type": "code",
   "execution_count": null,
   "metadata": {},
   "outputs": [],
   "source": []
  },
  {
   "cell_type": "code",
   "execution_count": 2,
   "metadata": {},
   "outputs": [],
   "source": [
    "#Establish the connection with the database\n",
    "conn = ppg.connect(\n",
    "    database = 'postgres',\n",
    "    user = 'rigextract',\n",
    "    password = 'G1bson!',\n",
    "    host = 'railroad-prod.cxmxeomzvjpa.us-east-2.rds.amazonaws.com',\n",
    "    port = '5432'\n",
    "\n",
    ")"
   ]
  },
  {
   "cell_type": "code",
   "execution_count": 3,
   "metadata": {},
   "outputs": [
    {
     "data": {
      "text/plain": [
       "<connection object at 0x00000143350EAAE8; dsn: 'user=rigextract password=xxx dbname=postgres host=railroad-prod.cxmxeomzvjpa.us-east-2.rds.amazonaws.com port=5432', closed: 0>"
      ]
     },
     "execution_count": 3,
     "metadata": {},
     "output_type": "execute_result"
    }
   ],
   "source": [
    "conn"
   ]
  },
  {
   "cell_type": "code",
   "execution_count": 7,
   "metadata": {},
   "outputs": [],
   "source": [
    "#Create a cursor to communicate with the database\n",
    "cur1 = conn.cursor()\n",
    "cur2 = conn.cursor()\n",
    "companies = set()"
   ]
  },
  {
   "cell_type": "code",
   "execution_count": 8,
   "metadata": {},
   "outputs": [],
   "source": [
    "notFound = []"
   ]
  },
  {
   "cell_type": "code",
   "execution_count": 28,
   "metadata": {},
   "outputs": [],
   "source": [
    "# #Read the files\n",
    "path = 'C:/Users/Fahim/Desktop/Gibson Reports/AI/08-08-2020'\n",
    "os.chdir(path)\n",
    "\n",
    "survey_id = []\n",
    "\n",
    "\n",
    "for filename in os.listdir(path):\n",
    "    if filename.endswith('.pdf'):\n",
    "        survey_id.append(filename)"
   ]
  },
  {
   "cell_type": "code",
   "execution_count": 36,
   "metadata": {},
   "outputs": [
    {
     "name": "stdout",
     "output_type": "stream",
     "text": [
      "PHOENIX TECHNOLOGY SERV USA INC.\n",
      "PHOENIX TECHNOLOGY SERV USA INC.\n",
      "PHOENIX TECHNOLOGY SERV USA INC.\n"
     ]
    }
   ],
   "source": [
    "r = []\n",
    "for ID in survey_id:\n",
    "    r.append(p.checkFile(ID))"
   ]
  },
  {
   "cell_type": "code",
   "execution_count": 37,
   "metadata": {},
   "outputs": [
    {
     "data": {
      "text/plain": [
       "[['PHOENIX TECHNOLOGY SERV USA INC.', 'MWD'],\n",
       " 'missing',\n",
       " 'missing',\n",
       " 'missing',\n",
       " ['PHOENIX TECHNOLOGY SERV USA INC.', 'MWD'],\n",
       " 'missing',\n",
       " ['PHOENIX TECHNOLOGY SERV USA INC.', 'MWD'],\n",
       " 'missing',\n",
       " 'missing']"
      ]
     },
     "execution_count": 37,
     "metadata": {},
     "output_type": "execute_result"
    }
   ],
   "source": [
    "r"
   ]
  },
  {
   "cell_type": "code",
   "execution_count": 10,
   "metadata": {
    "scrolled": true
   },
   "outputs": [
    {
     "name": "stdout",
     "output_type": "stream",
     "text": [
      "('5089295', 'PHOENIX TECHNOLOGY SERV USA INC.', 'MWD')\n",
      "\u001b[31m'5089296' Not Found!\u001b[0m\n",
      "\u001b[31m'5089297' Not Found!\u001b[0m\n",
      "\u001b[31m'5089300' Not Found!\u001b[0m\n",
      "('5089301', 'PHOENIX TECHNOLOGY SERV USA INC.', 'MWD')\n",
      "\u001b[31m'5089302' Not Found!\u001b[0m\n",
      "('5089304', 'PHOENIX TECHNOLOGY SERV USA INC.', 'MWD')\n",
      "\u001b[31m'5089305' Not Found!\u001b[0m\n",
      "\u001b[31m'5089306' Not Found!\u001b[0m\n"
     ]
    }
   ],
   "source": [
    "for ID in survey_id:\n",
    "\n",
    "    EAID = \"'\" + ID +\"'\"\n",
    "    SQL = \"\"\"\n",
    "    SELECT externalattachmentid,surveycompany,surveytype \n",
    "    FROM railroad.completesurveydata \n",
    "    WHERE externalattachmentid = {}\n",
    "    \"\"\".format(EAID)\n",
    "    cur1.execute(SQL)\n",
    "    cur2.execute(SQL)\n",
    "    if len(cur1.fetchall()) != 0:\n",
    "        for record in cur2.fetchall():\n",
    "            EAID, surveyCompany, surveyType = record\n",
    "            companies.add(surveyCompany)\n",
    "            print(record)\n",
    "    else:\n",
    "        notFound.append(EAID)\n",
    "        print (colored(EAID + ' Not Found!','red'))\n",
    "        \n",
    "#     companies = set(companies)"
   ]
  },
  {
   "cell_type": "code",
   "execution_count": null,
   "metadata": {},
   "outputs": [],
   "source": []
  },
  {
   "cell_type": "code",
   "execution_count": 72,
   "metadata": {},
   "outputs": [
    {
     "name": "stdout",
     "output_type": "stream",
     "text": [
      "There are 42 unique companies\n"
     ]
    },
    {
     "data": {
      "text/plain": [
       "{'ACCURATE DIRECTIONAL SURVEY, LLC',\n",
       " 'AIM DIRECTIONAL SERVICES, LLC',\n",
       " 'ALTITUDE ENERGY PARTNERS, LLC',\n",
       " 'BAKER HUGHES INTEQ',\n",
       " 'BORE PATH SERVICES, INC.',\n",
       " 'CATHEDRAL ENERGY SERVICES INC.',\n",
       " 'CHOICE DIRECTIONAL SVCS US CORP.',\n",
       " 'DIXON DIRECTIONAL, LLC',\n",
       " 'DOUBLEBARREL DOWNHOLE TECH LLC',\n",
       " 'GEO-MAG MWD LLC',\n",
       " 'GORDON TECHNOLOGIES LLC',\n",
       " 'GYRODATA',\n",
       " 'HALLIBURTON ENERGY SERVICES',\n",
       " 'HT MWD SOLUTIONS, LLC',\n",
       " 'INTREPID D.D.S., LTD.',\n",
       " 'INVICTUS TOOLS, LLC',\n",
       " 'LEAM DRILLING SERVICES',\n",
       " 'LEGACY DIRECTIONAL DRILLING, LLC',\n",
       " 'LIBERTY DRILLING SERVICES, LLC',\n",
       " 'METEORITE ENERGY SERVICES INC.',\n",
       " 'MS ENERGY SERVICES',\n",
       " 'NABORS DRILLING TECH USA, INC.',\n",
       " 'NATIONAL OILWELL VARCO, L.P.',\n",
       " 'NEWSCO INTL ENERGY SVC USA INC.',\n",
       " 'PATRIOT DRILLING SERVICES LLC',\n",
       " 'PHOENIX TECHNOLOGY SERV USA INC.',\n",
       " 'PREMIER DIRECTIONAL',\n",
       " 'PROFESSIONAL DIRECTIONAL ENT INC',\n",
       " 'QES DIRECTIONAL DRILLING, LLC',\n",
       " 'SCHLUMBERGER TECHNOLOGY CORP.',\n",
       " \"SCIENTIFIC DRILLING INT'L, INC.\",\n",
       " 'SCOUT DOWNHOLE, INC.',\n",
       " 'SKYLINE DIRECTIONAL DRLG, LLC.',\n",
       " 'STRYKER ENERGY DIRCTNL SRVCS,LLC',\n",
       " 'TOTAL DIRECTIONAL SERVICES, LLC',\n",
       " 'TRI-CITY SERVICES, INC.',\n",
       " 'TRUE SHOT, LLC',\n",
       " 'ULTRA MANAGEMENT SERVICES, LLC',\n",
       " 'VAUGHN ENERGY SERVICES',\n",
       " 'WEATHERFORD',\n",
       " 'WELLBENDERS DIRECTIONAL SERV LLC',\n",
       " 'WESTCOTT DOWN HOLE SERV, INC.'}"
      ]
     },
     "execution_count": 72,
     "metadata": {},
     "output_type": "execute_result"
    }
   ],
   "source": [
    "print('There are ' + str(len(companies)) + ' unique companies')\n",
    "companies"
   ]
  },
  {
   "cell_type": "code",
   "execution_count": 78,
   "metadata": {},
   "outputs": [
    {
     "ename": "NameError",
     "evalue": "name 'ast' is not defined",
     "output_type": "error",
     "traceback": [
      "\u001b[1;31m---------------------------------------------------------------------------\u001b[0m",
      "\u001b[1;31mNameError\u001b[0m                                 Traceback (most recent call last)",
      "\u001b[1;32m<ipython-input-78-10873a6222ca>\u001b[0m in \u001b[0;36m<module>\u001b[1;34m\u001b[0m\n\u001b[0;32m      4\u001b[0m \u001b[0mfile\u001b[0m \u001b[1;33m=\u001b[0m \u001b[0mopen\u001b[0m\u001b[1;33m(\u001b[0m\u001b[1;34m\"Companies.txt\"\u001b[0m\u001b[1;33m,\u001b[0m \u001b[1;34m\"r\"\u001b[0m\u001b[1;33m)\u001b[0m\u001b[1;33m\u001b[0m\u001b[1;33m\u001b[0m\u001b[0m\n\u001b[0;32m      5\u001b[0m \u001b[0mcontents\u001b[0m \u001b[1;33m=\u001b[0m \u001b[0mfile\u001b[0m\u001b[1;33m.\u001b[0m \u001b[0mread\u001b[0m\u001b[1;33m(\u001b[0m\u001b[1;33m)\u001b[0m\u001b[1;33m\u001b[0m\u001b[1;33m\u001b[0m\u001b[0m\n\u001b[1;32m----> 6\u001b[1;33m \u001b[0mdictionary\u001b[0m \u001b[1;33m=\u001b[0m \u001b[0mast\u001b[0m\u001b[1;33m.\u001b[0m \u001b[0mliteral_eval\u001b[0m\u001b[1;33m(\u001b[0m\u001b[0mcontents\u001b[0m\u001b[1;33m)\u001b[0m\u001b[1;33m\u001b[0m\u001b[1;33m\u001b[0m\u001b[0m\n\u001b[0m\u001b[0;32m      7\u001b[0m \u001b[0mfile\u001b[0m\u001b[1;33m.\u001b[0m \u001b[0mclose\u001b[0m\u001b[1;33m(\u001b[0m\u001b[1;33m)\u001b[0m\u001b[1;33m\u001b[0m\u001b[1;33m\u001b[0m\u001b[0m\n\u001b[0;32m      8\u001b[0m \u001b[0mprint\u001b[0m\u001b[1;33m(\u001b[0m\u001b[0mtype\u001b[0m\u001b[1;33m(\u001b[0m\u001b[0mdictionary\u001b[0m\u001b[1;33m)\u001b[0m\u001b[1;33m)\u001b[0m\u001b[1;33m\u001b[0m\u001b[1;33m\u001b[0m\u001b[0m\n",
      "\u001b[1;31mNameError\u001b[0m: name 'ast' is not defined"
     ]
    }
   ],
   "source": [
    "path = 'C:/Users/Fahim/Desktop/Gibson Reports/AI'\n",
    "os.chdir(path)\n",
    "\n",
    "file = open(\"Companies.txt\", \"r\")\n",
    "contents = file. read()\n",
    "dictionary = ast.literal_eval(contents)\n",
    "file. close()\n",
    "print(type(dictionary))\n",
    "print(dictionary)"
   ]
  },
  {
   "cell_type": "code",
   "execution_count": 55,
   "metadata": {},
   "outputs": [
    {
     "data": {
      "text/plain": [
       "'1'"
      ]
     },
     "execution_count": 55,
     "metadata": {},
     "output_type": "execute_result"
    }
   ],
   "source": [
    "a['one']"
   ]
  },
  {
   "cell_type": "code",
   "execution_count": 56,
   "metadata": {},
   "outputs": [],
   "source": [
    "uniqueCompanies = ['ACCURATE DIRECTIONAL SURVEY, LLC',\n",
    " 'AIM DIRECTIONAL SERVICES, LLC',\n",
    " 'ALTITUDE ENERGY PARTNERS, LLC',\n",
    " 'BAKER HUGHES INTEQ',\n",
    " 'BORE PATH SERVICES, INC.',\n",
    " 'CATHEDRAL ENERGY SERVICES INC.',\n",
    " 'CHOICE DIRECTIONAL SVCS US CORP.',\n",
    " 'DIXON DIRECTIONAL, LLC',\n",
    " 'DOUBLEBARREL DOWNHOLE TECH LLC',\n",
    " 'GEO-MAG MWD LLC',\n",
    " 'GORDON TECHNOLOGIES LLC',\n",
    " 'GYRODATA',\n",
    " 'HALLIBURTON ENERGY SERVICES',\n",
    " 'HT MWD SOLUTIONS, LLC',\n",
    " 'INTREPID D.D.S., LTD.',\n",
    " 'INVICTUS TOOLS, LLC',\n",
    " 'LEAM DRILLING SERVICES',\n",
    " 'LEGACY DIRECTIONAL DRILLING, LLC',\n",
    " 'LIBERTY DRILLING SERVICES, LLC',\n",
    " 'METEORITE ENERGY SERVICES INC.',\n",
    " 'MS ENERGY SERVICES',\n",
    " 'NABORS DRILLING TECH USA, INC.',\n",
    " 'NATIONAL OILWELL VARCO, L.P.',\n",
    " 'NEWSCO INTL ENERGY SVC USA INC.',\n",
    " 'PATRIOT DRILLING SERVICES LLC',\n",
    " 'PHOENIX TECHNOLOGY SERV USA INC.',\n",
    " 'PREMIER DIRECTIONAL',\n",
    " 'PROFESSIONAL DIRECTIONAL ENT INC',\n",
    " 'QES DIRECTIONAL DRILLING, LLC',\n",
    " 'SCHLUMBERGER TECHNOLOGY CORP.',\n",
    " \"SCIENTIFIC DRILLING INT'L, INC.\",\n",
    " 'SCOUT DOWNHOLE, INC.',\n",
    " 'SKYLINE DIRECTIONAL DRLG, LLC.',\n",
    " 'STRYKER ENERGY DIRCTNL SRVCS,LLC',\n",
    " 'TOTAL DIRECTIONAL SERVICES, LLC',\n",
    " 'TRI-CITY SERVICES, INC.',\n",
    " 'TRUE SHOT, LLC',\n",
    " 'ULTRA MANAGEMENT SERVICES, LLC',\n",
    " 'VAUGHN ENERGY SERVICES',\n",
    " 'WEATHERFORD',\n",
    " 'WELLBENDERS DIRECTIONAL SERV LLC',\n",
    " 'WESTCOTT DOWN HOLE SERV, INC.']"
   ]
  },
  {
   "cell_type": "code",
   "execution_count": null,
   "metadata": {},
   "outputs": [],
   "source": []
  },
  {
   "cell_type": "code",
   "execution_count": 28,
   "metadata": {},
   "outputs": [
    {
     "name": "stdout",
     "output_type": "stream",
     "text": [
      "('5085212', 'VAUGHN ENERGY SERVICES', 'GYRO')\n"
     ]
    }
   ],
   "source": [
    "if len(cur1.fetchall()) != 0:\n",
    "    for record in cur2.fetchall():\n",
    "        EAID, surveyCompany, surveyType = record\n",
    "        print(record)\n",
    "else:\n",
    "    print('Record Not Found!')"
   ]
  },
  {
   "cell_type": "code",
   "execution_count": 12,
   "metadata": {},
   "outputs": [
    {
     "data": {
      "text/plain": [
       "'GORDON TECHNOLOGIES LLC'"
      ]
     },
     "execution_count": 12,
     "metadata": {},
     "output_type": "execute_result"
    }
   ],
   "source": [
    "surveyCompany"
   ]
  },
  {
   "cell_type": "code",
   "execution_count": null,
   "metadata": {},
   "outputs": [],
   "source": [
    "5085240 , 5085043"
   ]
  }
 ],
 "metadata": {
  "kernelspec": {
   "display_name": "Python 3",
   "language": "python",
   "name": "python3"
  },
  "language_info": {
   "codemirror_mode": {
    "name": "ipython",
    "version": 3
   },
   "file_extension": ".py",
   "mimetype": "text/x-python",
   "name": "python",
   "nbconvert_exporter": "python",
   "pygments_lexer": "ipython3",
   "version": "3.7.3"
  }
 },
 "nbformat": 4,
 "nbformat_minor": 4
}
